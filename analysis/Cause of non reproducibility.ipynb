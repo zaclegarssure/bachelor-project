{
 "cells": [
  {
   "cell_type": "code",
   "execution_count": 1,
   "id": "0d6f9b7e",
   "metadata": {},
   "outputs": [],
   "source": [
    "%matplotlib notebook\n",
    "\n",
    "import numpy as np\n",
    "import matplotlib.pyplot as plt\n",
    "from matplotlib.widgets import Slider, Button\n",
    "import json\n",
    "import os\n",
    "import helpers\n",
    "import subprocess\n",
    "import csv\n",
    "from helpers import extract_stats"
   ]
  },
  {
   "cell_type": "code",
   "execution_count": 2,
   "id": "19942d18",
   "metadata": {},
   "outputs": [],
   "source": [
    "with open('../results/analyse_non_repr_reasons/label.csv', 'r') as f:\n",
    "    csvFile = csv.reader(f)\n",
    "    data = {l[0]:list(map(lambda x: x.strip(), l[1:])) for l in csvFile}"
   ]
  },
  {
   "cell_type": "code",
   "execution_count": 3,
   "id": "2886330c",
   "metadata": {},
   "outputs": [],
   "source": [
    "all_reasons = list()\n",
    "for _, reasons in data.items():\n",
    "    all_reasons += reasons"
   ]
  },
  {
   "cell_type": "code",
   "execution_count": 4,
   "id": "70e464a9",
   "metadata": {},
   "outputs": [
    {
     "name": "stdout",
     "output_type": "stream",
     "text": [
      "['appdata', 'archive_host_name', 'archive_ordering', 'archive_timestamp', 'asar_checksum', 'build_failed', 'debug_link', 'diffoscope_failed', 'domain_name', 'hardware_dependant', 'hostname', 'icon_cache', 'jar_ordering', 'jar_timestamp', 'kernel_version', 'manifest_serialization', 'path', 'pip_path', 'png_stuff????', 'png_timestamp', 'pyc', 'random_ro', 'reproducible', 'string_ordering', 'sysconfig', 'timestamp', 'unbounded_module_deps', 'uncontrolled_timestamps', 'unknown']\n"
     ]
    }
   ],
   "source": [
    "print(sorted(set(all_reasons)))"
   ]
  },
  {
   "cell_type": "code",
   "execution_count": 5,
   "id": "6ff4cb40",
   "metadata": {},
   "outputs": [],
   "source": [
    "count = {l:all_reasons.count(l) for l in all_reasons}"
   ]
  },
  {
   "cell_type": "code",
   "execution_count": 6,
   "id": "28383541",
   "metadata": {},
   "outputs": [
    {
     "name": "stdout",
     "output_type": "stream",
     "text": [
      "{'debug_link': 75, 'unknown': 21, 'manifest_serialization': 50, 'pyc': 29, 'pip_path': 16, 'sysconfig': 8, 'uncontrolled_timestamps': 26, 'random_ro': 37, 'string_ordering': 5, 'build_failed': 9, 'hardware_dependant': 2, 'archive_timestamp': 3, 'unbounded_module_deps': 1, 'reproducible': 12, 'icon_cache': 13, 'appdata': 14, 'timestamp': 19, 'path': 8, 'archive_host_name': 1, 'kernel_version': 2, 'png_timestamp': 3, 'asar_checksum': 1, 'archive_ordering': 1, 'diffoscope_failed': 4, 'jar_ordering': 2, 'jar_timestamp': 3, 'hostname': 3, 'png_stuff????': 1, 'domain_name': 1}\n"
     ]
    }
   ],
   "source": [
    "print(count)"
   ]
  },
  {
   "cell_type": "code",
   "execution_count": 7,
   "id": "603825ea",
   "metadata": {},
   "outputs": [],
   "source": [
    "count = sorted(count.items(), key=lambda x: x[1], reverse=True)\n",
    "count = dict(count)"
   ]
  },
  {
   "cell_type": "code",
   "execution_count": 8,
   "id": "86065ccb",
   "metadata": {},
   "outputs": [
    {
     "name": "stdout",
     "output_type": "stream",
     "text": [
      "{'debug_link': 75, 'manifest_serialization': 50, 'random_ro': 37, 'pyc': 29, 'uncontrolled_timestamps': 26, 'unknown': 21, 'timestamp': 19, 'pip_path': 16, 'appdata': 14, 'icon_cache': 13, 'reproducible': 12, 'build_failed': 9, 'sysconfig': 8, 'path': 8, 'string_ordering': 5, 'diffoscope_failed': 4, 'archive_timestamp': 3, 'png_timestamp': 3, 'jar_timestamp': 3, 'hostname': 3, 'hardware_dependant': 2, 'kernel_version': 2, 'jar_ordering': 2, 'unbounded_module_deps': 1, 'archive_host_name': 1, 'asar_checksum': 1, 'archive_ordering': 1, 'png_stuff????': 1, 'domain_name': 1}\n"
     ]
    }
   ],
   "source": [
    "print(count)"
   ]
  },
  {
   "cell_type": "code",
   "execution_count": 9,
   "id": "ecf8d37b",
   "metadata": {},
   "outputs": [],
   "source": [
    "stats = extract_stats('../results/analyse_non_repr_reasons/')"
   ]
  },
  {
   "cell_type": "code",
   "execution_count": 20,
   "id": "360300d9",
   "metadata": {},
   "outputs": [],
   "source": [
    "def compute_fix_effect(data, reasons_fixed):\n",
    "    affected = [reasons for _, reasons in data.items() if any(res in reasons_fixed for res in reasons)]\n",
    "    solved = [reasons for _, reasons in data.items() if all(res in reasons_fixed for res in reasons)]\n",
    "    \n",
    "    return (affected, solved)"
   ]
  },
  {
   "cell_type": "code",
   "execution_count": 21,
   "id": "52b3e8ff",
   "metadata": {},
   "outputs": [],
   "source": [
    "time_reasons = ['debug_link', 'random_ro', 'timestamp']"
   ]
  },
  {
   "cell_type": "code",
   "execution_count": 22,
   "id": "44dd6f04",
   "metadata": {},
   "outputs": [],
   "source": [
    "(time_affected, time_solved) = compute_fix_effect(data, time_reasons)"
   ]
  },
  {
   "cell_type": "code",
   "execution_count": 23,
   "id": "d1628e13",
   "metadata": {},
   "outputs": [
    {
     "name": "stdout",
     "output_type": "stream",
     "text": [
      "87\n",
      "31\n"
     ]
    }
   ],
   "source": [
    "print(len(time_affected))\n",
    "print(len(time_solved))"
   ]
  },
  {
   "cell_type": "code",
   "execution_count": 24,
   "id": "42fb7423",
   "metadata": {},
   "outputs": [],
   "source": [
    "manifest_reason = ['manifest_serialization']\n",
    "(manifest_affected, manifest_solved) = compute_fix_effect(data, manifest_reason)"
   ]
  },
  {
   "cell_type": "code",
   "execution_count": 25,
   "id": "e705ae4a",
   "metadata": {},
   "outputs": [
    {
     "name": "stdout",
     "output_type": "stream",
     "text": [
      "50\n",
      "29\n"
     ]
    }
   ],
   "source": [
    "print(len(manifest_affected))\n",
    "print(len(manifest_solved))"
   ]
  },
  {
   "cell_type": "code",
   "execution_count": 26,
   "id": "d1cd605b",
   "metadata": {},
   "outputs": [],
   "source": [
    "strip_reason = ['png_timestamp', 'archive_timestamp', 'archive_host_name']\n",
    "(strip_affected, strip_solved) = compute_fix_effect(data, strip_reason)"
   ]
  },
  {
   "cell_type": "code",
   "execution_count": 27,
   "id": "01189ff8",
   "metadata": {},
   "outputs": [
    {
     "name": "stdout",
     "output_type": "stream",
     "text": [
      "7\n",
      "3\n"
     ]
    }
   ],
   "source": [
    "print(len(strip_affected))\n",
    "print(len(strip_solved))"
   ]
  },
  {
   "cell_type": "code",
   "execution_count": 28,
   "id": "f847a8bb",
   "metadata": {},
   "outputs": [],
   "source": [
    "all_reasons = time_reasons + manifest_reason + strip_reason\n",
    "(overall_affected, overall_solved) = compute_fix_effect(data, all_reasons)"
   ]
  },
  {
   "cell_type": "code",
   "execution_count": 29,
   "id": "cae6e453",
   "metadata": {},
   "outputs": [
    {
     "name": "stdout",
     "output_type": "stream",
     "text": [
      "129\n",
      "67\n"
     ]
    }
   ],
   "source": [
    "print(len(overall_affected))\n",
    "print(len(overall_solved))"
   ]
  }
 ],
 "metadata": {
  "kernelspec": {
   "display_name": "Python 3 (ipykernel)",
   "language": "python",
   "name": "python3"
  },
  "language_info": {
   "codemirror_mode": {
    "name": "ipython",
    "version": 3
   },
   "file_extension": ".py",
   "mimetype": "text/x-python",
   "name": "python",
   "nbconvert_exporter": "python",
   "pygments_lexer": "ipython3",
   "version": "3.10.4"
  }
 },
 "nbformat": 4,
 "nbformat_minor": 5
}
