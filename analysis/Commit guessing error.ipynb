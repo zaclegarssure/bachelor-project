{
 "cells": [
  {
   "cell_type": "markdown",
   "id": "fb2e4218",
   "metadata": {},
   "source": [
    "## Goal\n",
    "Here we will try to estimate how many erros we did while guessing the right commit, for certain flatpak dependencies. More precisely, some dependencies (base app, sdk extension and flatpak builder) are not bound by a specific commit, we only know that the program was built using the latest available dependencies at the time. The problem is, we don't know the exact time of the build therefore we take what was the lastest available at ostree-commit time (after the build), which means that if a dependency was updated during this time slice, our guess will be wrong."
   ]
  },
  {
   "cell_type": "markdown",
   "id": "315d642a",
   "metadata": {},
   "source": [
    "To estimate the probability of error, we already can bound the build time between the git commit (which is known to be before the build) and the ostree commit (which is after), we will then assume that the build is distributed uniformly inside, even if it is a bit unrealistic we cannot really guess what distribution it should have. And then if one of it's dependency had a commit in this interval, we can easily compute the probability of error. If multiple dependencies are present we just do the join error (probability that at least one is wrong)."
   ]
  },
  {
   "cell_type": "code",
   "execution_count": 1,
   "id": "f957069f",
   "metadata": {},
   "outputs": [],
   "source": [
    "%matplotlib notebook\n",
    "\n",
    "import numpy as np\n",
    "import matplotlib.pyplot as plt\n",
    "from matplotlib.widgets import Slider, Button\n",
    "import json\n",
    "import os\n",
    "from helpers import run_flatpak_command, cmd_output_to_dict, flatpak_date_to_datetime, get_additional_deps, GitNotFoundException, find_build_manifest\n",
    "import subprocess\n",
    "import shutil\n",
    "from git.repo import Repo\n",
    "import datetime as dt\n",
    "from datetime import datetime, timezone\n",
    "import yaml\n",
    "from functools import reduce\n",
    "import json5"
   ]
  },
  {
   "cell_type": "markdown",
   "id": "2810ff95",
   "metadata": {},
   "source": [
    "### You can skip this and load the json directly if you want"
   ]
  },
  {
   "cell_type": "code",
   "execution_count": 2,
   "id": "85ec4ec2",
   "metadata": {},
   "outputs": [],
   "source": [
    "# Compute sdk extension, and builder statistics\n",
    "results = {}\n",
    "with open('extension-base-builder', 'r') as f:\n",
    "    for name in f.readlines():\n",
    "        name = name.strip()\n",
    "        cmd = ['flatpak', 'remote-info', 'flathub', name, '--log']\n",
    "        output = run_flatpak_command(cmd, 'user', capture_output=True)\n",
    "        commits = output.split(\"\\n\\n\")[1:]\n",
    "        results[name] = list()\n",
    "        for commit in reversed(commits):\n",
    "            if not commit.isspace() and commit:\n",
    "                commit = cmd_output_to_dict(commit)\n",
    "                commit_date = flatpak_date_to_datetime(commit[\"Date\"])\n",
    "                results[name].append(commit_date)"
   ]
  },
  {
   "cell_type": "code",
   "execution_count": 3,
   "id": "894ea7a5",
   "metadata": {},
   "outputs": [],
   "source": [
    "def datetime_json(o):\n",
    "    if isinstance(o, datetime):\n",
    "        return o.__str__()"
   ]
  },
  {
   "cell_type": "code",
   "execution_count": 4,
   "id": "7eaa8b6a",
   "metadata": {},
   "outputs": [],
   "source": [
    "json_results = json.dumps(results, default = datetime_json, indent=4)"
   ]
  },
  {
   "cell_type": "code",
   "execution_count": 5,
   "id": "14caf777",
   "metadata": {},
   "outputs": [],
   "source": [
    "with open(\"commit_dates\", \"w\") as f:\n",
    "    f.write(json_results)"
   ]
  },
  {
   "cell_type": "markdown",
   "id": "913bb2a0",
   "metadata": {},
   "source": [
    "### Skip until here to load the precomputed json"
   ]
  },
  {
   "cell_type": "code",
   "execution_count": 6,
   "id": "46f73235",
   "metadata": {},
   "outputs": [],
   "source": [
    "with open(\"commit_dates\", \"r\") as f:\n",
    "    deps_commits = json5.load(f)"
   ]
  },
  {
   "cell_type": "code",
   "execution_count": 7,
   "id": "c50b9859",
   "metadata": {},
   "outputs": [],
   "source": [
    "def compute_error_prob_for_1_deps(git_commit, ostree_commit, deps_ref):    \n",
    "    deps_commit = deps_commits[deps_ref]\n",
    "    deps_commit = list(map(lambda c: datetime.strptime(c, '%Y-%m-%d %H:%M:%S%z'), deps_commit))\n",
    "\n",
    "    # There are cases of really outdated programs which existed even before certain deps.\n",
    "    if git_commit < deps_commit[0]:\n",
    "        print(\"Too old to even be relevent\")\n",
    "        return 0.0\n",
    "    \n",
    "    before_git = git_commit\n",
    "    before_ostree = ostree_commit\n",
    "    for commit in deps_commit:\n",
    "        date = commit\n",
    "        if git_commit >= date:\n",
    "            before_git = date\n",
    "        if ostree_commit >= date:\n",
    "            before_ostree = date\n",
    "\n",
    "    if before_git == before_ostree:\n",
    "        return 0.0\n",
    "    else:\n",
    "        commits_in_between = [commit for commit in deps_commit if commit >= git_commit and commit <= ostree_commit]\n",
    "        # Since we took the ostree_commit to rebuild, the last possible one is the relevant one\n",
    "        last_commit = commits_in_between[-1]\n",
    "        # We assume uniform distribution\n",
    "        error = 1. - (ostree_commit - last_commit).total_seconds()/(ostree_commit - git_commit).total_seconds()\n",
    "        return error      "
   ]
  },
  {
   "cell_type": "code",
   "execution_count": 8,
   "id": "a918057a",
   "metadata": {},
   "outputs": [
    {
     "name": "stdout",
     "output_type": "stream",
     "text": [
      "0.9\n"
     ]
    }
   ],
   "source": [
    "# Sanity check\n",
    "builder_ref = 'org.flatpak.Builder/x86_64/stable'\n",
    "builder_last_commit = datetime.strptime(deps_commits[builder_ref][-1], '%Y-%m-%d %H:%M:%S%z')\n",
    "before = builder_last_commit - dt.timedelta(seconds= 9)\n",
    "after = builder_last_commit + dt.timedelta(seconds= 1)\n",
    "error = compute_error_prob_for_1_deps(before, after, builder_ref)\n",
    "print(error)"
   ]
  },
  {
   "cell_type": "code",
   "execution_count": 9,
   "id": "835bc8c6",
   "metadata": {},
   "outputs": [],
   "source": [
    "def find_extension_branch(ref):\n",
    "    possible_versions = ['1.6', '18.08', '19.08', '20.08', '21.08']\n",
    "    cmd = ['flatpak', 'remote-info', 'flathub', ref, '-m', '--system']\n",
    "    result = subprocess.run(cmd, capture_output=True)\n",
    "    output = result.stdout.decode('UTF-8')\n",
    "    for ver in possible_versions:\n",
    "        if ver in output:\n",
    "            return ver\n",
    "    return None"
   ]
  },
  {
   "cell_type": "code",
   "execution_count": 10,
   "id": "1fdc716e",
   "metadata": {},
   "outputs": [
    {
     "name": "stdout",
     "output_type": "stream",
     "text": [
      "19.08\n"
     ]
    }
   ],
   "source": [
    "# Sanity check\n",
    "gnome_platform_ref = 'org.gnome.Sdk/x86_64/3.36'\n",
    "version = find_extension_branch(gnome_platform_ref)\n",
    "print(version)"
   ]
  },
  {
   "cell_type": "code",
   "execution_count": 11,
   "id": "7fffd5c1",
   "metadata": {},
   "outputs": [],
   "source": [
    "cmd = \"flatpak remote-ls flathub --system --app --columns=ref | cut -d '/' -f2,3,4\"\n",
    "result = subprocess.run(cmd, capture_output=True, shell=True)\n",
    "output = result.stdout.decode('UTF-8')"
   ]
  },
  {
   "cell_type": "code",
   "execution_count": 12,
   "id": "5f70b4ad",
   "metadata": {},
   "outputs": [],
   "source": [
    "non_zero_error = {}\n",
    "failed = list()\n",
    "badly_maintained = list()"
   ]
  },
  {
   "cell_type": "markdown",
   "id": "9c6cb41e",
   "metadata": {},
   "source": [
    "### This step can also be long, some precomputed results are available"
   ]
  },
  {
   "cell_type": "code",
   "execution_count": 13,
   "id": "2accef07",
   "metadata": {
    "scrolled": true
   },
   "outputs": [
    {
     "name": "stdout",
     "output_type": "stream",
     "text": [
      "[0.49150141643059486]\n",
      "0.49150141643059486\n",
      "['org.flatpak.Builder/x86_64/stable']\n",
      "Ref ca.littlesvr.asunder/x86_64/stable used wrong dependency with probability 0.49150141643059486\n",
      "[0.14316835755267798, 0.5957999704996646, 0.7280773210250182]\n",
      "0.7280773210250182\n",
      "['org.freedesktop.Sdk.Extension.node14/x86_64/21.08', 'org.flatpak.Builder/x86_64/stable', 'org.electronjs.Electron2.BaseApp/x86_64/21.08']\n",
      "Ref ch.threema.threema-web-desktop/x86_64/stable used wrong dependency with probability 0.7280773210250182\n",
      "Too old to even be relevent\n",
      "shame on com.dangeredwolf.ModernDeck/x86_64/stable it does not even build\n",
      "Too old to even be relevent\n",
      "shame on com.github.Anuken.Mindustry/x86_64/stable it does not even build\n",
      "shame on com.github.alainm23.planner/x86_64/stable it does not even build\n",
      "[0.7677506607201849]\n",
      "0.7677506607201849\n",
      "['org.flatpak.Builder/x86_64/stable']\n",
      "Ref com.github.arminstraub.krop/x86_64/stable used wrong dependency with probability 0.7677506607201849\n",
      "[0.5198434125269978]\n",
      "0.5198434125269978\n",
      "['org.flatpak.Builder/x86_64/stable']\n",
      "Ref com.github.gpuvis.Gpuvis/x86_64/stable used wrong dependency with probability 0.5198434125269978\n",
      "shame on com.github.inercia.k3x/x86_64/stable it does not even build\n",
      "list index out of range\n",
      "Ref com.github.itext.i7j_rups/x86_64/stable failed\n",
      "shame on com.github.optyfr.JRomManager/x86_64/stable it does not even build\n",
      "shame on com.github.rhyme_player.rhyme/x86_64/stable it does not even build\n",
      "[0.23370831868292186]\n",
      "0.23370831868292186\n",
      "['org.flatpak.Builder/x86_64/stable']\n",
      "Ref com.github.ryonakano.konbucase/x86_64/stable used wrong dependency with probability 0.23370831868292186\n",
      "shame on com.github.suzie97.communique/x86_64/stable it does not even build\n",
      "Too old to even be relevent\n",
      "Too old to even be relevent\n",
      "shame on com.google.AndroidStudio/x86_64/stable it does not even build\n",
      "[0.8428922193138912, 3.989303519080778e-05]\n",
      "0.8428922193138912\n",
      "['org.flatpak.Builder/x86_64/stable', 'org.chromium.Chromium.BaseApp/x86_64/21.08']\n",
      "Ref com.google.Chrome/x86_64/stable used wrong dependency with probability 0.8428922193138912\n",
      "shame on com.jetbrains.CLion/x86_64/stable it does not even build\n",
      "shame on com.jetbrains.IntelliJ-IDEA-Ultimate/x86_64/stable it does not even build\n",
      "Too old to even be relevent\n",
      "[0.0, 0.7968431424914126]\n",
      "0.7968431424914126\n",
      "['org.freedesktop.Sdk.Extension.openjdk8/x86_64/21.08', 'org.flatpak.Builder/x86_64/stable']\n",
      "Ref com.makemkv.MakeMKV/x86_64/stable used wrong dependency with probability 0.7968431424914126\n",
      "Too old to even be relevent\n",
      "'org.videolan.VLC/x86_64/stable'\n",
      "Ref com.netease.CloudMusic/x86_64/stable failed\n",
      "[0.7048613136193377]\n",
      "0.7048613136193377\n",
      "['org.flatpak.Builder/x86_64/stable']\n",
      "Ref com.obsproject.Studio/x86_64/stable used wrong dependency with probability 0.7048613136193377\n",
      "shame on com.retrodev.blastem/x86_64/stable it does not even build\n",
      "[0.0, 0.9596165387409583]\n",
      "0.9596165387409583\n",
      "['org.flatpak.Builder/x86_64/stable', 'io.qt.qtwebengine.BaseApp/x86_64/6.2']\n",
      "Ref com.riverbankcomputing.PyQt.BaseApp/x86_64/6.2 used wrong dependency with probability 0.9596165387409583\n",
      "[0.8045567842438794, 0.0]\n",
      "0.8045567842438794\n",
      "['org.flatpak.Builder/x86_64/stable', 'io.qt.qtwebkit.BaseApp/x86_64/5.15-21.08']\n",
      "Ref com.sourcepole.kadas/x86_64/stable used wrong dependency with probability 0.8045567842438794\n",
      "'org.gnome.Sdk.Compat.i386/x86_64/21.08'\n",
      "Ref com.usebottles.bottles/x86_64/stable failed\n",
      "[0.9165682258189833]\n",
      "0.9165682258189833\n",
      "['org.flatpak.Builder/x86_64/stable']\n",
      "Ref com.vagueentertainment.Framed/x86_64/stable used wrong dependency with probability 0.9165682258189833\n",
      "[0.0, 0.9429982713271066]\n",
      "0.9429982713271066\n",
      "['org.freedesktop.Sdk.Extension.openjdk/x86_64/21.08', 'org.flatpak.Builder/x86_64/stable']\n",
      "Ref com.whitemagicsoftware.kmcaster/x86_64/stable used wrong dependency with probability 0.9429982713271066\n",
      "shame on com.yubico.yubioath/x86_64/stable it does not even build\n",
      "shame on de.akaflieg_freiburg.enroute/x86_64/stable it does not even build\n",
      "shame on de.rwth_aachen.ient.RDPlot/x86_64/stable it does not even build\n",
      "shame on de.schmidhuberj.tubefeeder/x86_64/stable it does not even build\n",
      "Too old to even be relevent\n",
      "[0.41236922901978623]\n",
      "0.41236922901978623\n",
      "['org.flatpak.Builder/x86_64/stable']\n",
      "Ref info.puredata.Pd-extended/x86_64/stable used wrong dependency with probability 0.41236922901978623\n",
      "Too old to even be relevent\n",
      "Too old to even be relevent\n",
      "shame on io.atom.Atom/x86_64/stable it does not even build\n",
      "Too old to even be relevent\n",
      "shame on io.atom.electron.BaseApp/x86_64/stable it does not even build\n",
      "Too old to even be relevent\n",
      "[0.48189521119609025]\n",
      "0.48189521119609025\n",
      "['org.flatpak.Builder/x86_64/stable']\n",
      "Ref io.elementary.BaseApp/x86_64/juno-21.08 used wrong dependency with probability 0.48189521119609025\n",
      "Too old to even be relevent\n",
      "[0.7614447548106766]\n",
      "0.7614447548106766\n",
      "['org.flatpak.Builder/x86_64/stable']\n",
      "Ref io.github.cxong.cdogs-sdl/x86_64/stable used wrong dependency with probability 0.7614447548106766\n",
      "shame on io.github.dman95.SASM/x86_64/stable it does not even build\n",
      "shame on io.github.gitahead.GitAhead/x86_64/stable it does not even build\n",
      "shame on io.github.lainsce.Quilter/x86_64/stable it does not even build\n",
      "'org.freedesktop.Sdk.Extension.node10/x86_64/20.08'\n",
      "Ref io.github.liberodark.OpenDrive/x86_64/stable failed\n",
      "'org.gnome.Sdk.Compat.i386/x86_64/21.08'\n",
      "Ref io.github.sharkwouter.Minigalaxy/x86_64/stable failed\n",
      "[0.28111561360345017]\n",
      "0.28111561360345017\n",
      "['org.flatpak.Builder/x86_64/stable']\n",
      "Ref io.github.tcobbs.LDView/x86_64/stable used wrong dependency with probability 0.28111561360345017\n",
      "shame on io.gitlab.osslugaru.Lugaru/x86_64/stable it does not even build\n",
      "shame on io.gitlab.persiangolf.voicegen/x86_64/stable it does not even build\n",
      "Too old to even be relevent\n",
      "Too old to even be relevent\n",
      "Too old to even be relevent\n",
      "Too old to even be relevent\n",
      "shame on io.poez.Poezio/x86_64/stable it does not even build\n",
      "shame on io.qt.qtwebengine.BaseApp/x86_64/5.15-21.08 it does not even build\n",
      "'org.kde.Sdk.Locale/x86_64/21.08'\n",
      "Ref io.qt.qtwebengine.BaseApp/x86_64/6.2 failed\n",
      "shame on io.qt.qtwebkit.BaseApp/x86_64/5.11 it does not even build\n",
      "Too old to even be relevent\n",
      "shame on io.qt.qtwebkit.BaseApp/x86_64/5.9 it does not even build\n",
      "shame on io.qt.qtwebkit.BaseApp/x86_64/stable it does not even build\n",
      "[0.9475207573325239]\n",
      "0.9475207573325239\n",
      "['org.flatpak.Builder/x86_64/stable']\n",
      "Ref io.sourceforge.qoobar.Qoobar/x86_64/stable used wrong dependency with probability 0.9475207573325239\n",
      "[0.8598550129941185]\n",
      "0.8598550129941185\n",
      "['org.flatpak.Builder/x86_64/stable']\n",
      "Ref me.orszulak.keyring/x86_64/stable used wrong dependency with probability 0.8598550129941185\n",
      "[0.09259201399737549]\n",
      "0.09259201399737549\n",
      "['org.flatpak.Builder/x86_64/stable']\n",
      "Ref media.emby.EmbyServer/x86_64/stable used wrong dependency with probability 0.09259201399737549\n",
      "shame on net.jami.Jami/x86_64/stable it does not even build\n",
      "'org.freedesktop.Sdk.Extension.llvm14/x86_64/21.08'\n",
      "Ref net.rpcs3.RPCS3/x86_64/stable failed\n",
      "shame on nl.hjdskes.gcolor3/x86_64/stable it does not even build\n",
      "shame on org.d3cod3.Mosaic/x86_64/stable it does not even build\n",
      "[0.8968688220140983]\n",
      "0.8968688220140983\n",
      "['org.flatpak.Builder/x86_64/stable']\n",
      "Ref org.darkdimension.rue/x86_64/stable used wrong dependency with probability 0.8968688220140983\n",
      "Too old to even be relevent\n",
      "Too old to even be relevent\n",
      "[0.0, 1.0]\n",
      "1.0\n",
      "['org.freedesktop.Sdk.Extension.golang/x86_64/21.08', 'org.flatpak.Builder/x86_64/stable']\n",
      "Ref org.flatpak.Builder/x86_64/stable used wrong dependency with probability 1.0\n",
      "Too old to even be relevent\n",
      "Too old to even be relevent\n",
      "No git repository found for package: org.freedesktop.Platform.ClInfo\n",
      "Ref org.freedesktop.Platform.ClInfo/x86_64/20.08 failed\n",
      "No git repository found for package: org.freedesktop.Platform.ClInfo\n",
      "Ref org.freedesktop.Platform.ClInfo/x86_64/21.08 failed\n",
      "No git repository found for package: org.freedesktop.Platform.GlxInfo\n",
      "Ref org.freedesktop.Platform.GlxInfo/x86_64/20.08 failed\n",
      "No git repository found for package: org.freedesktop.Platform.GlxInfo\n",
      "Ref org.freedesktop.Platform.GlxInfo/x86_64/21.08 failed\n",
      "No git repository found for package: org.freedesktop.Platform.VaInfo\n",
      "Ref org.freedesktop.Platform.VaInfo/x86_64/20.08 failed\n",
      "No git repository found for package: org.freedesktop.Platform.VaInfo\n",
      "Ref org.freedesktop.Platform.VaInfo/x86_64/21.08 failed\n"
     ]
    },
    {
     "name": "stdout",
     "output_type": "stream",
     "text": [
      "No git repository found for package: org.freedesktop.Platform.VulkanInfo\n",
      "Ref org.freedesktop.Platform.VulkanInfo/x86_64/20.08 failed\n",
      "No git repository found for package: org.freedesktop.Platform.VulkanInfo\n",
      "Ref org.freedesktop.Platform.VulkanInfo/x86_64/21.08 failed\n",
      "[0.0, 0.560336212481672, 0.0]\n",
      "0.560336212481672\n",
      "['org.freedesktop.Sdk.Extension.llvm12/x86_64/21.08', 'org.freedesktop.Sdk.Extension.node14/x86_64/21.08', 'org.flatpak.Builder/x86_64/stable']\n",
      "Ref org.gnome.Builder/x86_64/stable used wrong dependency with probability 0.560336212481672\n",
      "shame on org.gnome.Connections/x86_64/stable it does not even build\n",
      "[0.8826832690858767]\n",
      "0.8826832690858767\n",
      "['org.flatpak.Builder/x86_64/stable']\n",
      "Ref org.gnome.Taquin/x86_64/stable used wrong dependency with probability 0.8826832690858767\n",
      "[0.2463452506285544]\n",
      "0.2463452506285544\n",
      "['org.flatpak.Builder/x86_64/stable']\n",
      "Ref org.gnome.atomix/x86_64/stable used wrong dependency with probability 0.2463452506285544\n",
      "[0.8688659881149288, 0.5890067952387499]\n",
      "0.8688659881149288\n",
      "['org.freedesktop.Sdk.Extension.rust-stable/x86_64/21.08', 'org.flatpak.Builder/x86_64/stable']\n",
      "Ref org.gnome.design.AppIconPreview/x86_64/stable used wrong dependency with probability 0.8688659881149288\n",
      "shame on org.gnome.design.Typography/x86_64/stable it does not even build\n",
      "shame on org.gnome.gbrainy/x86_64/stable it does not even build\n",
      "shame on org.gnunet.Messenger/x86_64/stable it does not even build\n",
      "shame on org.godotengine.godot.BaseApp/x86_64/3.1 it does not even build\n",
      "shame on org.gottcode.CuteMaze/x86_64/stable it does not even build\n",
      "shame on org.gottcode.Hexalate/x86_64/stable it does not even build\n",
      "shame on org.gottcode.NovProg/x86_64/stable it does not even build\n",
      "shame on org.gottcode.Simsu/x86_64/stable it does not even build\n",
      "shame on org.jreleaser.cli/x86_64/stable it does not even build\n",
      "[0.47374074474409555, 0.0]\n",
      "0.47374074474409555\n",
      "['org.freedesktop.Sdk.Extension.rust-stable/x86_64/21.08', 'org.flatpak.Builder/x86_64/stable']\n",
      "Ref org.kde.Ikona/x86_64/stable used wrong dependency with probability 0.47374074474409555\n",
      "shame on org.kde.kgeotag/x86_64/stable it does not even build\n",
      "shame on org.kde.massif-visualizer/x86_64/stable it does not even build\n",
      "[0.6698923492007538, 0.0]\n",
      "0.6698923492007538\n",
      "['org.flatpak.Builder/x86_64/stable', 'io.qt.qtwebkit.BaseApp/x86_64/5.15-21.08']\n",
      "Ref org.kde.skrooge/x86_64/stable used wrong dependency with probability 0.6698923492007538\n",
      "[0.9101068277609096]\n",
      "0.9101068277609096\n",
      "['org.flatpak.Builder/x86_64/stable']\n",
      "Ref org.leocad.LeoCAD/x86_64/stable used wrong dependency with probability 0.9101068277609096\n",
      "shame on org.mozilla.firefox.BaseApp/x86_64/20.08 it does not even build\n",
      "No git repository found for package: org.mozilla.firefox\n",
      "Ref org.mozilla.firefox/x86_64/stable failed\n",
      "shame on org.nuspell.Nuspell/x86_64/stable it does not even build\n",
      "shame on org.opentransactions.metier/x86_64/stable it does not even build\n",
      "shame on org.pegasus_frontend.Pegasus/x86_64/stable it does not even build\n",
      "shame on org.scilab.Scilab/x86_64/stable it does not even build\n",
      "Too old to even be relevent\n",
      "shame on org.stellarium.Stellarium/x86_64/stable it does not even build\n",
      "[0.7775151862331788]\n",
      "0.7775151862331788\n",
      "['org.flatpak.Builder/x86_64/stable']\n",
      "Ref party.supertux.supertuxparty/x86_64/stable used wrong dependency with probability 0.7775151862331788\n",
      "[0.0, 0.6846479066889708, 0.0]\n",
      "0.6846479066889708\n",
      "['org.freedesktop.Sdk.Extension.node16/x86_64/21.08', 'org.freedesktop.Sdk.Extension.rust-stable/x86_64/21.08', 'org.flatpak.Builder/x86_64/stable']\n",
      "Ref sh.xaviers.Opentapes/x86_64/stable used wrong dependency with probability 0.6846479066889708\n",
      "'org.winehq.Wine/x86_64/stable-21.08'\n",
      "Ref ua.org.brezblock.q4wine/x86_64/stable failed\n",
      "shame on uk.co.mangobrain.Infector/x86_64/stable it does not even build\n"
     ]
    }
   ],
   "source": [
    "for ref in output.split('\\n')[:-1]:\n",
    "    dir = ref.replace('/', '_')\n",
    "    \n",
    "    os.mkdir(dir)\n",
    "    path = f\"{os.curdir}/{dir}\"\n",
    "    splitted_ref = ref.split('/')\n",
    "    name = splitted_ref[0]\n",
    "    branch = splitted_ref[2]\n",
    "    try:\n",
    "        git_url = get_additional_deps(\"flathub\", name)\n",
    "\n",
    "        repo = Repo.clone_from(git_url, path)\n",
    "        remote_refs = repo.remote().refs\n",
    "        possible_ones = [ref for ref in remote_refs if ref.name.endswith(branch)]\n",
    "        if len(possible_ones) > 0:\n",
    "            git_ref = possible_ones[0]\n",
    "            git_ref.checkout()\n",
    "        else:\n",
    "            possible_ones = [ref for ref in remote_refs if ref.name.endswith(\"master\")]\n",
    "            if len(possible_ones) > 0:\n",
    "                git_ref = possible_ones[0]\n",
    "                git_ref.checkout()\n",
    "         \n",
    "        manifest = find_build_manifest(os.listdir(path), name)\n",
    "\n",
    "\n",
    "        last_commit_date = repo.commit().committed_datetime\n",
    "        cmd = ['flatpak', 'remote-info', 'flathub', ref, '--system']\n",
    "        last_ostree_commit_date = cmd_output_to_dict(subprocess.run(cmd,capture_output=True).stdout.decode('UTF-8'))\n",
    "        last_ostree_commit_date = flatpak_date_to_datetime(last_ostree_commit_date['Date'])\n",
    "        estimate_interval = last_ostree_commit_date - last_commit_date\n",
    "        estimate_interval = estimate_interval.total_seconds()\n",
    "        \n",
    "        # During our first rebuild we assumed that the last git commit would be the one corresponding to what's\n",
    "        # on flathub, but since people push code that does not build on master this is wrong so here we\n",
    "        # keep track of all this badly maintained programs.\n",
    "        # Also we make sure the commit is not too recent, otherwise the build might not have been already available on flathub\n",
    "        too_recent = (datetime.now(timezone.utc) - last_commit_date).total_seconds() <= 86400\n",
    "        if last_ostree_commit_date < last_commit_date and not too_recent:\n",
    "            badly_maintained.append(ref)\n",
    "            print(f\"shame on {ref} it does not even build\")\n",
    "        elif not too_recent:\n",
    "            with open(f\"{path}/{manifest}\", \"r\") as f:\n",
    "                try:\n",
    "                    if manifest.endswith(\".json\"):\n",
    "                        manifest = json5.load(f)\n",
    "                    else:\n",
    "                        manifest = yaml.safe_load(f)\n",
    "                        \n",
    "                    version = find_extension_branch(f\"{manifest['sdk']}/x86_64/{manifest['runtime-version']}\")\n",
    "                    guessed_deps = [f\"{ext}/x86_64/{version}\" for ext in manifest.get('sdk-extensions', [])] + ['org.flatpak.Builder/x86_64/stable']\n",
    "                    base_app = manifest.get('base')\n",
    "                    if base_app:\n",
    "                        guessed_deps.append(f\"{base_app}/x86_64/{manifest['base-version']}\")\n",
    "                except:\n",
    "                    # Sometimes the manifest parsing fails (because people don't care about specifications)\n",
    "                    guessed_deps = ['org.flatpak.Builder/x86_64/stable']\n",
    "        \n",
    "\n",
    "            errors = [compute_error_prob_for_1_deps(last_commit_date, last_ostree_commit_date, ref) for ref in guessed_deps]\n",
    "            error = max(errors)\n",
    "\n",
    "            if error != 0.0:\n",
    "                print(errors)\n",
    "                print(error)\n",
    "                print(guessed_deps)\n",
    "                non_zero_error[ref] = error\n",
    "                print(f\"Ref {ref} used wrong dependency with probability {error}\")\n",
    "    except Exception as e:\n",
    "        print(e)\n",
    "        failed.append(ref)\n",
    "        print(f\"Ref {ref} failed\")\n",
    "    finally:\n",
    "        shutil.rmtree(path)"
   ]
  },
  {
   "cell_type": "code",
   "execution_count": 14,
   "id": "8db0be3b",
   "metadata": {},
   "outputs": [],
   "source": [
    "resulting_json = {\n",
    "    'non_zero_error': non_zero_error,\n",
    "    'failed': failed,\n",
    "    'badly_maintained': badly_maintained\n",
    "}\n",
    "resulting_json = json5.dumps(resulting_json)\n",
    "with open(\"commit_error_result\", \"w\") as f:\n",
    "    f.write(resulting_json)"
   ]
  },
  {
   "cell_type": "markdown",
   "id": "2f561fa2",
   "metadata": {},
   "source": [
    "### You can skip here"
   ]
  },
  {
   "cell_type": "code",
   "execution_count": 15,
   "id": "82251e56",
   "metadata": {},
   "outputs": [],
   "source": [
    "with open(\"commit_error_result\", \"r\") as f:\n",
    "    guessing_error = json5.load(f)"
   ]
  },
  {
   "cell_type": "code",
   "execution_count": 18,
   "id": "b3499624",
   "metadata": {},
   "outputs": [
    {
     "name": "stdout",
     "output_type": "stream",
     "text": [
      "19.517012774848347\n"
     ]
    }
   ],
   "source": [
    "# We susbtract by 1 since flatpak-builder will always report as wrong (since it is also part of the guessed deps)\n",
    "print(np.sum(list(guessing_error['non_zero_error'].values())) - 1)"
   ]
  },
  {
   "cell_type": "markdown",
   "id": "bdd859d8",
   "metadata": {},
   "source": [
    "We therfore expect 19.5 programs over the 1600 that would build using at least one dependency downgraded at the wrong version, which is reasonable."
   ]
  }
 ],
 "metadata": {
  "kernelspec": {
   "display_name": "Python 3 (ipykernel)",
   "language": "python",
   "name": "python3"
  },
  "language_info": {
   "codemirror_mode": {
    "name": "ipython",
    "version": 3
   },
   "file_extension": ".py",
   "mimetype": "text/x-python",
   "name": "python",
   "nbconvert_exporter": "python",
   "pygments_lexer": "ipython3",
   "version": "3.10.4"
  }
 },
 "nbformat": 4,
 "nbformat_minor": 5
}
