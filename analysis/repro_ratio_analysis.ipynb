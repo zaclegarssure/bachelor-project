{
 "cells": [
  {
   "cell_type": "code",
   "execution_count": 1,
   "id": "3b6c0d8a",
   "metadata": {},
   "outputs": [],
   "source": [
    "%matplotlib inline\n",
    "import matplotlib.pyplot as plt\n",
    "from matplotlib.widgets import Slider, Button\n",
    "import json\n",
    "import os\n",
    "from helpers import extract_stats, cmd_output_to_dict, flatpak_date_to_datetime\n",
    "import subprocess"
   ]
  },
  {
   "cell_type": "code",
   "execution_count": 2,
   "id": "588d202c",
   "metadata": {},
   "outputs": [],
   "source": [
    "stats = extract_stats('../results/rebuild_half_flathub/')"
   ]
  },
  {
   "cell_type": "markdown",
   "id": "f016f2ba",
   "metadata": {},
   "source": [
    "### Rerpoduciblity ratio"
   ]
  },
  {
   "cell_type": "code",
   "execution_count": 3,
   "id": "45b58193",
   "metadata": {},
   "outputs": [],
   "source": [
    "reproducible = list()\n",
    "non_reproducible = list()\n",
    "build_fail = list()\n",
    "for stat in stats:\n",
    "    if stat['build_sucess'] == True:\n",
    "        if stat['is_reproducible'] == True:\n",
    "            reproducible.append(stat)\n",
    "        else:\n",
    "            non_reproducible.append(stat)\n",
    "    else:\n",
    "        build_fail.append(stat)"
   ]
  },
  {
   "cell_type": "code",
   "execution_count": 4,
   "id": "f84e5032",
   "metadata": {},
   "outputs": [
    {
     "name": "stdout",
     "output_type": "stream",
     "text": [
      "There were 306 reproducible programs, 368 non-reproducible one and 55 failed to build.\n",
      "That means we reached 41.9753086419753% reproducibility !\n"
     ]
    }
   ],
   "source": [
    "n_repro = len(reproducible)\n",
    "n_nonrepro = len(non_reproducible)\n",
    "n_fail = len(build_fail)\n",
    "total = n_fail + n_nonrepro + n_repro\n",
    "ratio_repro = n_repro/total\n",
    "print(f\"There were {n_repro} reproducible programs, {n_nonrepro} non-reproducible one and {n_fail} failed to build.\")\n",
    "print(f\"That means we reached {ratio_repro*100.0}% reproducibility !\")"
   ]
  },
  {
   "cell_type": "markdown",
   "id": "e6104e99",
   "metadata": {},
   "source": [
    "### Bin reproducibility ratio"
   ]
  },
  {
   "cell_type": "code",
   "execution_count": 5,
   "id": "29c5e811",
   "metadata": {},
   "outputs": [],
   "source": [
    "bin_reproducible = list()\n",
    "non_bin_reproducible = list()\n",
    "for stat in stats:\n",
    "    if stat['build_sucess'] == True:\n",
    "        if stat['is_bin_reproducible'] == True:\n",
    "            bin_reproducible.append(stat)\n",
    "        else:\n",
    "            non_bin_reproducible.append(stat)       "
   ]
  },
  {
   "cell_type": "code",
   "execution_count": 6,
   "id": "834098f7",
   "metadata": {},
   "outputs": [
    {
     "name": "stdout",
     "output_type": "stream",
     "text": [
      "There were 423 binary-reproducible programs, 251 binary-non-reproducible one and 55 failed to build.\n",
      "That means we reached 58.0246913580247% binary reproducibility !\n"
     ]
    }
   ],
   "source": [
    "n_brepro = len(bin_reproducible)\n",
    "n_nonbrepro = len(non_bin_reproducible)\n",
    "ratio_repro = n_brepro/total\n",
    "print(f\"There were {n_brepro} binary-reproducible programs, {n_nonbrepro} binary-non-reproducible one and {n_fail} failed to build.\")\n",
    "print(f\"That means we reached {ratio_repro*100.0}% binary reproducibility !\")"
   ]
  },
  {
   "cell_type": "markdown",
   "id": "457875f2",
   "metadata": {},
   "source": [
    "### Are older/not up-to-date programs less reproducible ?"
   ]
  },
  {
   "cell_type": "code",
   "execution_count": 7,
   "id": "5200d872",
   "metadata": {},
   "outputs": [],
   "source": [
    "def find_commit_date(ref):\n",
    "    cmd = ['flatpak', 'remote-info', 'flathub', ref, '--system']\n",
    "    last_ostree_commit_date = cmd_output_to_dict(subprocess.run(cmd,capture_output=True).stdout.decode('UTF-8'))\n",
    "    if last_ostree_commit_date.get('Date') is None:\n",
    "        return None\n",
    "    last_ostree_commit_date = flatpak_date_to_datetime(last_ostree_commit_date['Date'])\n",
    "    return last_ostree_commit_date"
   ]
  },
  {
   "cell_type": "code",
   "execution_count": 8,
   "id": "36b132cf",
   "metadata": {},
   "outputs": [],
   "source": [
    "repro_date = [find_commit_date(stat['name']) for stat in bin_reproducible]\n",
    "non_repro_date = [find_commit_date(stat['name']) for stat in non_bin_reproducible]"
   ]
  },
  {
   "cell_type": "code",
   "execution_count": 9,
   "id": "b507e8e8",
   "metadata": {},
   "outputs": [],
   "source": [
    "repro_date = [d for d in repro_date if d is not None]\n",
    "non_repro_date = [d for d in non_repro_date if d is not None]"
   ]
  },
  {
   "cell_type": "code",
   "execution_count": 10,
   "id": "e5aeaa26",
   "metadata": {},
   "outputs": [
    {
     "data": {
      "image/png": "[encoded data removed]",
      "text/plain": [
       "<Figure size 432x288 with 1 Axes>"
      ]
     },
     "metadata": {
      "needs_background": "light"
     },
     "output_type": "display_data"
    },
    {
     "data": {
      "image/png": "[encoded data removed]",
      "text/plain": [
       "<Figure size 432x288 with 1 Axes>"
      ]
     },
     "metadata": {
      "needs_background": "light"
     },
     "output_type": "display_data"
    }
   ],
   "source": [
    "plt.hist(repro_date)\n",
    "plt.show()\n",
    "plt.hist(non_repro_date)\n",
    "plt.show()"
   ]
  },
  {
   "cell_type": "markdown",
   "id": "d01dde8b",
   "metadata": {},
   "source": [
    "### Random stats"
   ]
  },
  {
   "cell_type": "code",
   "execution_count": 11,
   "id": "ad3af266",
   "metadata": {},
   "outputs": [],
   "source": [
    "arch_desktop_build_time = [stat['build_time'] for stat in stats if stat['machine'] == \"desktop-arch\" and stat['build_sucess'] == True]"
   ]
  },
  {
   "cell_type": "code",
   "execution_count": 12,
   "id": "363e0b4a",
   "metadata": {},
   "outputs": [
    {
     "data": {
      "image/png": "[encoded data removed]",
      "text/plain": [
       "<Figure size 432x288 with 1 Axes>"
      ]
     },
     "metadata": {
      "needs_background": "light"
     },
     "output_type": "display_data"
    }
   ],
   "source": [
    "plt.hist(arch_desktop_build_time, bins=50, range=(0,1500))\n",
    "plt.show()"
   ]
  },
  {
   "cell_type": "code",
   "execution_count": 13,
   "id": "d2937d3d",
   "metadata": {},
   "outputs": [],
   "source": [
    "deps_size = [stat['cache_size'] for stat in stats if stat['build_sucess'] == True]"
   ]
  },
  {
   "cell_type": "code",
   "execution_count": 14,
   "id": "663adbc6",
   "metadata": {},
   "outputs": [
    {
     "data": {
      "image/png": "[encoded data removed]",
      "text/plain": [
       "<Figure size 432x288 with 1 Axes>"
      ]
     },
     "metadata": {
      "needs_background": "light"
     },
     "output_type": "display_data"
    }
   ],
   "source": [
    "plt.hist(arch_desktop_build_time, bins=50, range=(0,2000))\n",
    "plt.show()"
   ]
  },
  {
   "cell_type": "code",
   "execution_count": 15,
   "id": "32393782",
   "metadata": {},
   "outputs": [],
   "source": [
    "time_deps = [(stat['build_time'], stat['cache_size']) for stat in stats if stat['build_sucess'] == True and stat['machine'] == \"desktop-arch\"]"
   ]
  },
  {
   "cell_type": "code",
   "execution_count": 16,
   "id": "eb9f9f6b",
   "metadata": {},
   "outputs": [
    {
     "data": {
      "image/png": "[encoded data removed]",
      "text/plain": [
       "<Figure size 432x288 with 1 Axes>"
      ]
     },
     "metadata": {
      "needs_background": "light"
     },
     "output_type": "display_data"
    }
   ],
   "source": [
    "plt.scatter(*zip(*time_deps))\n",
    "plt.show()"
   ]
  }
 ],
 "metadata": {
  "kernelspec": {
   "display_name": "Python 3 (ipykernel)",
   "language": "python",
   "name": "python3"
  },
  "language_info": {
   "codemirror_mode": {
    "name": "ipython",
    "version": 3
   },
   "file_extension": ".py",
   "mimetype": "text/x-python",
   "name": "python",
   "nbconvert_exporter": "python",
   "pygments_lexer": "ipython3",
   "version": "3.10.4"
  }
 },
 "nbformat": 4,
 "nbformat_minor": 5
}
