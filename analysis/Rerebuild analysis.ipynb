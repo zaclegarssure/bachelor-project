{
 "cells": [
  {
   "cell_type": "markdown",
   "id": "36ee0ba0",
   "metadata": {},
   "source": [
    "### Rerebuild\n",
    "The idea is that if one can rebuild the same program on two different environment and obtain the same result, the program should inherently be reproducible.\n",
    "We therefore applied this test to a set of 200 known to be not reproducible flatpaks."
   ]
  },
  {
   "cell_type": "code",
   "execution_count": 1,
   "id": "6d676ade",
   "metadata": {},
   "outputs": [],
   "source": [
    "%matplotlib notebook\n",
    "\n",
    "import numpy as np\n",
    "import matplotlib.pyplot as plt\n",
    "from matplotlib.widgets import Slider, Button\n",
    "import json\n",
    "import os\n",
    "from helpers import extract_stats\n",
    "import subprocess\n",
    "import shutil\n",
    "from git.repo import Repo\n",
    "import datetime as dt\n",
    "from datetime import datetime, timezone"
   ]
  },
  {
   "cell_type": "code",
   "execution_count": 2,
   "id": "b1847dc4",
   "metadata": {},
   "outputs": [],
   "source": [
    "stats_computer_1 = extract_stats('../results/rebuild_twice_on_two_machines//results_computer_1/')\n",
    "stats_computer_2 = extract_stats('../results/rebuild_twice_on_two_machines/results_computer_2/')\n",
    "previous_stats = extract_stats('../results/rebuild_half_flathub/')"
   ]
  },
  {
   "cell_type": "code",
   "execution_count": 3,
   "id": "0fb31486",
   "metadata": {},
   "outputs": [],
   "source": [
    "previous_dict = {stat['name']:stat for stat in previous_stats}"
   ]
  },
  {
   "cell_type": "code",
   "execution_count": 4,
   "id": "5de46498",
   "metadata": {},
   "outputs": [],
   "source": [
    "joined_stats = list()\n",
    "for stat1 in stats_computer_1:\n",
    "    for stat2 in stats_computer_2:\n",
    "        if stat1['name'] == stat2['name'] and stat1['build_sucess'] and stat2['build_sucess']:\n",
    "            joined_stats.append((stat1, stat2))"
   ]
  },
  {
   "cell_type": "code",
   "execution_count": 5,
   "id": "c739a5be",
   "metadata": {},
   "outputs": [],
   "source": [
    "reproducible = [stat1 for (stat1, stat2) in joined_stats if stat1['rebuild_hash'] == stat2['rebuild_hash']]"
   ]
  },
  {
   "cell_type": "code",
   "execution_count": 6,
   "id": "8efc205a",
   "metadata": {},
   "outputs": [
    {
     "name": "stdout",
     "output_type": "stream",
     "text": [
      "70\n"
     ]
    }
   ],
   "source": [
    "print(len(reproducible))"
   ]
  },
  {
   "cell_type": "code",
   "execution_count": 7,
   "id": "81f3d4cb",
   "metadata": {},
   "outputs": [],
   "source": [
    "bin_reproducible = [stat1 for (stat1, stat2) in joined_stats if stat1['rebuild_bin_hash'] == stat2['rebuild_bin_hash']]"
   ]
  },
  {
   "cell_type": "code",
   "execution_count": 8,
   "id": "741dcf9a",
   "metadata": {},
   "outputs": [],
   "source": [
    "became_bin_reproducible = [stat for stat in bin_reproducible if previous_dict[stat['name']]['is_bin_reproducible'] == False]\n",
    "were_bin_reproducible = [stat for stat in bin_reproducible if previous_dict[stat['name']]['is_bin_reproducible']]"
   ]
  },
  {
   "cell_type": "code",
   "execution_count": 9,
   "id": "fea442d5",
   "metadata": {},
   "outputs": [
    {
     "name": "stdout",
     "output_type": "stream",
     "text": [
      "73\n",
      "32\n",
      "41\n"
     ]
    }
   ],
   "source": [
    "print(len(bin_reproducible))\n",
    "print(len(became_bin_reproducible))\n",
    "print(len(were_bin_reproducible))"
   ]
  },
  {
   "cell_type": "code",
   "execution_count": 10,
   "id": "35d14fdb",
   "metadata": {},
   "outputs": [],
   "source": [
    "build_same_stuff = [stat1 for (stat1, stat2) in joined_stats if stat1['commit'] == stat2['commit']]"
   ]
  },
  {
   "cell_type": "code",
   "execution_count": 11,
   "id": "68ab765f",
   "metadata": {},
   "outputs": [
    {
     "name": "stdout",
     "output_type": "stream",
     "text": [
      "185\n"
     ]
    }
   ],
   "source": [
    "print(len(build_same_stuff))"
   ]
  },
  {
   "cell_type": "code",
   "execution_count": 12,
   "id": "9fa61105",
   "metadata": {},
   "outputs": [],
   "source": [
    "theoritical_repro_ratio = len(reproducible)/len(build_same_stuff)\n",
    "theoritical_bin_repro_ratio = len(became_bin_reproducible)/len(build_same_stuff)\n",
    "# We can extrapolate to the whole repo where ~41% were reproducible and 58% bin_reproducible\n",
    "extra_repro_ratio = 0.41 + (1 - 0.41)*theoritical_repro_ratio\n",
    "extra_bin_repro_ratio = 0.58 + (1 - 0.58)*theoritical_bin_repro_ratio"
   ]
  },
  {
   "cell_type": "code",
   "execution_count": 13,
   "id": "e5605477",
   "metadata": {},
   "outputs": [
    {
     "name": "stdout",
     "output_type": "stream",
     "text": [
      "We have in theory 37.83783783783784% of the non-reproducible package that should be reproducible\n",
      "and 17.2972972972973% of the non-bin-reproducible package that should be bin_reproducible\n"
     ]
    }
   ],
   "source": [
    "print(f\"We have in theory {theoritical_repro_ratio*100}% of the non-reproducible package that should be reproducible\")\n",
    "print(f\"and {theoritical_bin_repro_ratio*100}% of the non-bin-reproducible package that should be bin_reproducible\")"
   ]
  },
  {
   "cell_type": "code",
   "execution_count": 14,
   "id": "afcd533f",
   "metadata": {},
   "outputs": [
    {
     "name": "stdout",
     "output_type": "stream",
     "text": [
      "If we extrapolate with the previous statistics we had, we could have 63.32432432432433% reproducible flatpaks\n",
      "and 65.26486486486486% bin-reproducible one.\n"
     ]
    }
   ],
   "source": [
    "print(f\"If we extrapolate with the previous statistics we had, we could have {extra_repro_ratio*100}% reproducible flatpaks\")\n",
    "print(f\"and {extra_bin_repro_ratio*100}% bin-reproducible one.\")"
   ]
  }
 ],
 "metadata": {
  "kernelspec": {
   "display_name": "Python 3 (ipykernel)",
   "language": "python",
   "name": "python3"
  },
  "language_info": {
   "codemirror_mode": {
    "name": "ipython",
    "version": 3
   },
   "file_extension": ".py",
   "mimetype": "text/x-python",
   "name": "python",
   "nbconvert_exporter": "python",
   "pygments_lexer": "ipython3",
   "version": "3.10.4"
  }
 },
 "nbformat": 4,
 "nbformat_minor": 5
}
