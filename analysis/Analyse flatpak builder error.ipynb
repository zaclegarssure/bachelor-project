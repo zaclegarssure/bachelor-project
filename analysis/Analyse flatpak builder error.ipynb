{
 "cells": [
  {
   "cell_type": "markdown",
   "id": "f60ff8c8",
   "metadata": {},
   "source": [
    "Any program built before January 4 2022 used a flatpak builder version we could not control, and are therefore not reproduced in the right environment. Here we look how many were affected."
   ]
  },
  {
   "cell_type": "code",
   "execution_count": 1,
   "id": "1b072bbe",
   "metadata": {},
   "outputs": [],
   "source": [
    "%matplotlib notebook\n",
    "\n",
    "import numpy as np\n",
    "import matplotlib.pyplot as plt\n",
    "from matplotlib.widgets import Slider, Button\n",
    "import json\n",
    "import os\n",
    "from helpers import extract_stats, run_flatpak_command, cmd_output_to_dict, flatpak_date_to_datetime, get_additional_deps, GitNotFoundException, find_build_manifest\n",
    "import subprocess\n",
    "import shutil\n",
    "from git.repo import Repo\n",
    "import datetime as dt\n",
    "from datetime import datetime, timezone\n",
    "import yaml\n",
    "from functools import reduce\n",
    "import json5"
   ]
  },
  {
   "cell_type": "code",
   "execution_count": 2,
   "id": "fabab409",
   "metadata": {},
   "outputs": [],
   "source": [
    "results = extract_stats('../results/rebuild_half_flathub/')"
   ]
  },
  {
   "cell_type": "code",
   "execution_count": 3,
   "id": "5c636165",
   "metadata": {},
   "outputs": [],
   "source": [
    "def used_wrong_fb(name):\n",
    "    cmd = ['flatpak', 'remote-info', 'flathub', name]\n",
    "    try:\n",
    "        output = run_flatpak_command(cmd, 'system', capture_output=True)\n",
    "        commit = cmd_output_to_dict(output)\n",
    "        commit_date = flatpak_date_to_datetime(commit[\"Date\"])\n",
    "    \n",
    "        return commit_date < datetime(2022, 1, 4, tzinfo=timezone.utc)\n",
    "    except:\n",
    "        return False"
   ]
  },
  {
   "cell_type": "code",
   "execution_count": 4,
   "id": "f8e45725",
   "metadata": {},
   "outputs": [],
   "source": [
    "wrong = [stat for stat in results if stat['build_sucess'] and used_wrong_fb(stat['name'])]"
   ]
  },
  {
   "cell_type": "code",
   "execution_count": 5,
   "id": "4a9a453b",
   "metadata": {},
   "outputs": [
    {
     "name": "stdout",
     "output_type": "stream",
     "text": [
      "180\n"
     ]
    }
   ],
   "source": [
    "print(len(wrong))"
   ]
  },
  {
   "cell_type": "code",
   "execution_count": 6,
   "id": "76723571",
   "metadata": {},
   "outputs": [],
   "source": [
    "wrong_and_not_repro = [stat for stat in wrong if not stat['is_reproducible']]"
   ]
  },
  {
   "cell_type": "code",
   "execution_count": 7,
   "id": "74dfd6c6",
   "metadata": {},
   "outputs": [
    {
     "name": "stdout",
     "output_type": "stream",
     "text": [
      "132\n"
     ]
    }
   ],
   "source": [
    "print(len(wrong_and_not_repro))"
   ]
  },
  {
   "cell_type": "markdown",
   "id": "9c092f33",
   "metadata": {},
   "source": [
    "As of today (8 June 2022) 180 programs from the rebuilding experiment were not using the right flatpak-builder version, and (concequently maybe) 132 were not reproducible. Those numbers are a lower-bound since the original rebuild process took place in May (I think I cannot remember), and some programs were updated since then."
   ]
  }
 ],
 "metadata": {
  "kernelspec": {
   "display_name": "Python 3 (ipykernel)",
   "language": "python",
   "name": "python3"
  },
  "language_info": {
   "codemirror_mode": {
    "name": "ipython",
    "version": 3
   },
   "file_extension": ".py",
   "mimetype": "text/x-python",
   "name": "python",
   "nbconvert_exporter": "python",
   "pygments_lexer": "ipython3",
   "version": "3.10.4"
  }
 },
 "nbformat": 4,
 "nbformat_minor": 5
}
